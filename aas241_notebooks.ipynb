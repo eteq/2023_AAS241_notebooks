{
 "cells": [
  {
   "cell_type": "markdown",
   "metadata": {
    "slideshow": {
     "slide_type": "slide"
    }
   },
   "source": [
    "# STScI and Jupyter Notebooks\n",
    "\n",
    "## Erik Tollerud\n",
    "### Data Science Mission Office Project Scientist\n",
    "\n",
    "<img align=\"left\" width=\"15%\"  src=\"stsci_pri_combo_mark_light_bkgd.png\">\n",
    "                                                      \n",
    "                                                      \n",
    "                                                   "
   ]
  },
  {
   "cell_type": "markdown",
   "metadata": {
    "slideshow": {
     "slide_type": "slide"
    }
   },
   "source": [
    "# What Do I Mean by Notebooks?\n",
    "\n",
    "<img align=\"right\" width=\"10%\"  src=\"jupyter-414px.png\">\n",
    "<img align=\"right\" width=\"10%\"  src=\"python-powered-h-140x182.png\">\n",
    "\n",
    "\"The Jupyter Notebook is an open-source web application that allows you to create and share documents that contain live code, equations, visualizations and narrative text.\"\n",
    "\n",
    "For astro & similar science this means two things:\n",
    "\n",
    "1. You can explore data in the same place you record results - a \"lab notebook\" for the present and future astronomer. (Lets you fail or succeed fast, but with an embedded \"why\".)\n",
    "2. You can transmit a scientific \"story\" as a single combined piece of code, visualization, and description - a \"paper\" that  writes part of itself.  (Note the prime recipient, in my experience: Future you.)\n",
    "\n",
    "And all from your run-of-the-mill, ordinary web browser."
   ]
  },
  {
   "cell_type": "markdown",
   "metadata": {
    "slideshow": {
     "slide_type": "subslide"
    }
   },
   "source": [
    "## Notebook Example\n",
    "\n",
    "<video data-autoplay src=\"nb_example.mov\" height=\"800\" style=\"display:block;margin: 0 auto;\"></video>"
   ]
  },
  {
   "cell_type": "markdown",
   "metadata": {
    "slideshow": {
     "slide_type": "subslide"
    }
   },
   "source": [
    "# Notebooks Can Be Tools for Scientific Replicability\n",
    "\n",
    "Take the \"paper in a file\" concept to the extreme.  Notebooks with suitable descriptions of their requirements can make plots/key numbers available to readers, enabling a fully-replicability publication.\n",
    "\n",
    "As a (poor) example: Tollerud et al. 2016 - [paper](https://ui.adsabs.harvard.edu/abs/2016ApJ...827...89T/abstract), [notebook](https://nbviewer.jupyter.org/github/eteq/piscdwarfs_hst/blob/master/Structural%20Parameters.ipynb)\n",
    "\n",
    "<img src=\"repro.png\" align=\"center\">\n",
    "\n",
    "\n",
    "<img src=\"repro-nb.png\" align=\"center\">"
   ]
  },
  {
   "cell_type": "markdown",
   "metadata": {
    "slideshow": {
     "slide_type": "subslide"
    }
   },
   "source": [
    "# Or Notebooks can be Training/Knowledge-Sharing Tools\n",
    "\n",
    "Both for you(sers) to be trained, *and* for you to share with others.\n",
    "\n",
    "\n",
    "<img src=\"nbtrain.png\" align=\"center\">"
   ]
  },
  {
   "cell_type": "markdown",
   "metadata": {
    "slideshow": {
     "slide_type": "slide"
    }
   },
   "source": [
    "# Notebooks used for HST & JWST\n",
    "\n",
    "<img align=\"right\" width=\"10%\"  src=\"hst-logo.png\">\n",
    "<img align=\"right\" width=\"10%\"  src=\"jwst-logo.png\">\n",
    "\n",
    "We already have a range of examples of the \"transmit story\" version, for [Hubble](https://spacetelescope.github.io/notebooks/) and  [JWST](https://spacetelescope.github.io/jdat_notebooks/)\n",
    "\n",
    "* [DrizzlePac Example](https://spacetelescope.github.io/notebooks/notebooks/DrizzlePac/Initialization/Initialization.html)\n",
    "* [JWST/NIRCam PSF Example](https://spacetelescope.github.io/jdat_notebooks/jdat_notebooks/psf_photometry/NIRCam_PSF_Photometry_Example.html)"
   ]
  },
  {
   "cell_type": "markdown",
   "metadata": {
    "slideshow": {
     "slide_type": "subslide"
    }
   },
   "source": [
    "## [DrizzlePac Example](https://spacetelescope.github.io/notebooks/notebooks/DrizzlePac/Initialization/Initialization.html)\n",
    "\n",
    "<img align=\"right\" width=\"75%\"  src=\"drizzle-nb-1.png\">"
   ]
  },
  {
   "cell_type": "markdown",
   "metadata": {
    "slideshow": {
     "slide_type": "subslide"
    }
   },
   "source": [
    "## [DrizzlePac Example](https://spacetelescope.github.io/notebooks/notebooks/DrizzlePac/Initialization/Initialization.html)\n",
    "\n",
    "<img align=\"right\" width=\"75%\"  src=\"drizzle-nb-2.png\">\n",
    "\n",
    "* Note use of astroquery to access MAST programatically."
   ]
  },
  {
   "cell_type": "markdown",
   "metadata": {
    "slideshow": {
     "slide_type": "subslide"
    }
   },
   "source": [
    "## [JWST/NIRCam PSF Example](https://spacetelescope.github.io/jdat_notebooks/jdat_notebooks/psf_photometry/NIRCam_PSF_Photometry_Example.html)\n",
    "\n",
    "<img align=\"center\" width=\"75%\"  src=\"jwst-nb-1.png\">\n",
    "\n",
    "Note the \"download\" option. You can run it yourself!"
   ]
  },
  {
   "cell_type": "markdown",
   "metadata": {
    "slideshow": {
     "slide_type": "subslide"
    }
   },
   "source": [
    "## [JWST/NIRCam PSF Example](https://spacetelescope.github.io/jdat_notebooks/jdat_notebooks/psf_photometry/NIRCam_PSF_Photometry_Example.html)\n",
    "\n",
    "<img align=\"center\" width=\"75%\"  src=\"jwst-nb-2.png\">\n",
    "\n",
    "Note the developer note..."
   ]
  },
  {
   "cell_type": "markdown",
   "metadata": {
    "slideshow": {
     "slide_type": "slide"
    }
   },
   "source": [
    "# Notebooks for MAST\n",
    "\n",
    "* 0-to-science in <1 day\n",
    "\n",
    "\n",
    "<img align=\"left\" width=\"50%\"  src=\"tweet_about_mastnbs.png\">"
   ]
  },
  {
   "cell_type": "markdown",
   "metadata": {
    "slideshow": {
     "slide_type": "subslide"
    }
   },
   "source": [
    "# Notebooks for MAST\n",
    "\n",
    "[![MAST Notebooks](mast_index.png)](https://spacetelescope.github.io/notebooks)"
   ]
  },
  {
   "cell_type": "markdown",
   "metadata": {
    "slideshow": {
     "slide_type": "subslide"
    }
   },
   "source": [
    "## [TESS FFI](https://spacetelescope.github.io/notebooks/notebooks/MAST/TESS/interm_tesscut_astroquery/interm_tesscut_astroquery.html)\n",
    "\n",
    "<img align=\"center\" width=\"75%\"  src=\"tess-nb-1.png\">"
   ]
  },
  {
   "cell_type": "markdown",
   "metadata": {
    "slideshow": {
     "slide_type": "subslide"
    }
   },
   "source": [
    "## [TESS FFI](https://spacetelescope.github.io/notebooks/notebooks/MAST/TESS/interm_tesscut_astroquery/interm_tesscut_astroquery.html)\n",
    "\n",
    "<img align=\"center\" width=\"75%\"  src=\"tess-nb-2.png\">"
   ]
  },
  {
   "cell_type": "markdown",
   "metadata": {
    "slideshow": {
     "slide_type": "subslide"
    }
   },
   "source": [
    "## [K2 Light Curve](https://spacetelescope.github.io/notebooks/notebooks/MAST/K2/K2_Lightcurve/k2_lightcurve.html)\n",
    "\n",
    "<img align=\"center\" width=\"60%\"  src=\"k2-nb-1.png\">\n",
    "\n",
    "Note the detailed explanatory text"
   ]
  },
  {
   "cell_type": "markdown",
   "metadata": {
    "slideshow": {
     "slide_type": "subslide"
    }
   },
   "source": [
    "## [K2 Light Curve](https://spacetelescope.github.io/notebooks/notebooks/MAST/K2/K2_Lightcurve/k2_lightcurve.html)\n",
    "\n",
    "<img align=\"center\" width=\"60%\"  src=\"k2-nb-2.png\">\n",
    "\n",
    "Note the embedded MAST link and \"what the data *really* mean\" element"
   ]
  },
  {
   "cell_type": "markdown",
   "metadata": {
    "slideshow": {
     "slide_type": "slide"
    }
   },
   "source": [
    "# Notebooks Enable \"Science Platforms\"\n",
    "\n",
    "\n",
    "<img align=\"right\" width=\"15%\"  src=\"hublogo.svg\">\n",
    "\n",
    "By providing a compute environment combined with a data analysis platform intended for use in the browser, notebook workflows make it easier to transition doing science from the laptop to the data, instead of moving data to the laptop. Better yet: both can happen!\n",
    "\n",
    "<table><tr>\n",
    "<td>\n",
    "    \n",
    "### The \"traditional\" platform\n",
    "<img align=\"left\" width=\"99%\"  src=\"sciplat1.png\"> \n",
    "    \n",
    "</td>\n",
    "    \n",
    "<td>\n",
    "    \n",
    "### The traditional platform with notebooks\n",
    "<img align=\"right\" width=\"99%\"  src=\"sciplat2.png\">\n",
    "    \n",
    "</td>\n",
    "</tr></table>\n",
    "    "
   ]
  },
  {
   "cell_type": "markdown",
   "metadata": {
    "slideshow": {
     "slide_type": "subslide"
    }
   },
   "source": [
    "# Notebooks Enable \"Science Platforms\"\n",
    "\n",
    "<table><tr>\n",
    "<td>\n",
    "    \n",
    "### The traditional platform with notebooks\n",
    "\n",
    "<img align=\"left\" width=\"99%\"  src=\"sciplat2.png\">\n",
    "    \n",
    "</td>\n",
    "    \n",
    "<td>\n",
    "    \n",
    "### The brave new world\n",
    "\n",
    "<img align=\"right\" width=\"99%\"  src=\"sciplat3.png\">\n",
    "    \n",
    "</td>\n",
    "</tr></table>\n",
    "\n",
    "1. You don't change anything you as a scientist do\n",
    "2. The data stay next to the compute\n",
    "3. You don't have to install stuff yourself "
   ]
  },
  {
   "cell_type": "markdown",
   "metadata": {
    "slideshow": {
     "slide_type": "slide"
    },
    "tags": []
   },
   "source": [
    "# How do we develop and support these notebooks?\n",
    "\n",
    "\n",
    "<img align=\"left\" width=\"98%\"  src=\"nb-pr.png\">\n",
    "\n"
   ]
  },
  {
   "cell_type": "markdown",
   "metadata": {
    "slideshow": {
     "slide_type": "subslide"
    },
    "tags": []
   },
   "source": [
    "\n",
    "<img align=\"right\" width=\"98%\"  src=\"nb-inf-page.png\">"
   ]
  },
  {
   "cell_type": "markdown",
   "metadata": {
    "slideshow": {
     "slide_type": "subslide"
    },
    "tags": []
   },
   "source": [
    "\n",
    "<img align=\"center\" width=\"98%\"  src=\"gha-workflow.png\">\n",
    "\n",
    "* This is \"v2\" - v1 looks somewhat different, did not use Jupyterbook. We embraced a community effort, instead."
   ]
  },
  {
   "cell_type": "markdown",
   "metadata": {
    "slideshow": {
     "slide_type": "slide"
    },
    "tags": []
   },
   "source": [
    "# Now you try!\n",
    "\n",
    "* The below will take you to a page with 3 different links - JWST notebooks, other ST notebooks, or the TIKE science platform.\n",
    " \n",
    "<img align=\"center\" width=\"50%\"  src=\"qr_jdat.png\">\n",
    "<a href=\"https://spacetelescope.github.io/jdat_notebooks/\">https://spacetelescope.github.io/jdat_notebooks/</a>\n",
    "\n",
    "* Or ask me about the infrastructure or anything else!"
   ]
  },
  {
   "cell_type": "markdown",
   "metadata": {
    "slideshow": {
     "slide_type": "slide"
    },
    "tags": []
   },
   "source": [
    "# Backup Slides"
   ]
  },
  {
   "cell_type": "markdown",
   "metadata": {
    "slideshow": {
     "slide_type": "slide"
    }
   },
   "source": [
    "# More Directly: Notebooks Empower MAST Users\n",
    "\n",
    "MAST supports an `astroquery` API that can/should be used directly from notebooks to get MAST data:"
   ]
  },
  {
   "cell_type": "code",
   "execution_count": 1,
   "metadata": {
    "slideshow": {
     "slide_type": "fragment"
    }
   },
   "outputs": [],
   "source": [
    "from astropy import units as u\n",
    "from astropy.coordinates import SkyCoord\n",
    "\n",
    "from astroquery.mast import Catalogs"
   ]
  },
  {
   "cell_type": "code",
   "execution_count": 2,
   "metadata": {
    "slideshow": {
     "slide_type": "fragment"
    }
   },
   "outputs": [
    {
     "data": {
      "text/plain": [
       "19765"
      ]
     },
     "execution_count": 2,
     "metadata": {},
     "output_type": "execute_result"
    }
   ],
   "source": [
    "coord = SkyCoord(158.47924*u.deg, -7.30962*u.deg)\n",
    "catalog_data = Catalogs.query_region(coord, radius=10*u.arcmin,\n",
    "                                     catalog=\"Panstarrs\", data_release=\"dr1\", table=\"mean\")\n",
    "len(catalog_data)"
   ]
  },
  {
   "cell_type": "code",
   "execution_count": 3,
   "metadata": {
    "slideshow": {
     "slide_type": "subslide"
    }
   },
   "outputs": [
    {
     "data": {
      "text/html": [
       "<i>Table length=19765</i>\n",
       "<table id=\"table140709441250448\" class=\"table-striped table-bordered table-condensed\">\n",
       "<thead><tr><th>objName</th><th>g-r</th><th>rMeanPSFMag</th></tr></thead>\n",
       "<thead><tr><th>str26</th><th>float64</th><th>float64</th></tr></thead>\n",
       "<tr><td>PSO J103354.806-072807.309</td><td>--</td><td>--</td></tr>\n",
       "<tr><td>PSO J103354.278-072810.348</td><td>--</td><td>--</td></tr>\n",
       "<tr><td>PSO J103354.355-072810.242</td><td>--</td><td>21.333999633789062</td></tr>\n",
       "<tr><td>PSO J103354.982-072741.807</td><td>0.17819976806640625</td><td>20.82430076599121</td></tr>\n",
       "<tr><td>PSO J103354.763-072801.301</td><td>--</td><td>--</td></tr>\n",
       "<tr><td>PSO J103354.366-072758.808</td><td>--</td><td>--</td></tr>\n",
       "<tr><td>PSO J103353.712-072802.522</td><td>--</td><td>--</td></tr>\n",
       "<tr><td>PSO J103353.958-072753.186</td><td>--</td><td>21.567699432373047</td></tr>\n",
       "<tr><td>PSO J103354.318-072755.106</td><td>--</td><td>--</td></tr>\n",
       "<tr><td>PSO J103356.462-072824.110</td><td>--</td><td>--</td></tr>\n",
       "<tr><td>...</td><td>...</td><td>...</td></tr>\n",
       "<tr><td>PSO J103431.862-071737.248</td><td>--</td><td>--</td></tr>\n",
       "<tr><td>PSO J103432.000-071737.973</td><td>--</td><td>--</td></tr>\n",
       "<tr><td>PSO J103431.993-071744.564</td><td>--</td><td>--</td></tr>\n",
       "<tr><td>PSO J103431.865-071742.764</td><td>--</td><td>--</td></tr>\n",
       "<tr><td>PSO J103432.046-071742.292</td><td>--</td><td>--</td></tr>\n",
       "<tr><td>PSO J103430.907-071803.718</td><td>--</td><td>--</td></tr>\n",
       "<tr><td>PSO J103431.360-071752.941</td><td>--</td><td>21.89739990234375</td></tr>\n",
       "<tr><td>PSO J103431.338-071758.725</td><td>--</td><td>--</td></tr>\n",
       "<tr><td>PSO J103432.846-071752.121</td><td>--</td><td>18.134599685668945</td></tr>\n",
       "<tr><td>PSO J103432.819-071755.157</td><td>--</td><td>18.687299728393555</td></tr>\n",
       "</table>"
      ],
      "text/plain": [
       "<Table length=19765>\n",
       "         objName                   g-r            rMeanPSFMag    \n",
       "          str26                  float64            float64      \n",
       "-------------------------- ------------------- ------------------\n",
       "PSO J103354.806-072807.309                  --                 --\n",
       "PSO J103354.278-072810.348                  --                 --\n",
       "PSO J103354.355-072810.242                  -- 21.333999633789062\n",
       "PSO J103354.982-072741.807 0.17819976806640625  20.82430076599121\n",
       "PSO J103354.763-072801.301                  --                 --\n",
       "PSO J103354.366-072758.808                  --                 --\n",
       "PSO J103353.712-072802.522                  --                 --\n",
       "PSO J103353.958-072753.186                  -- 21.567699432373047\n",
       "PSO J103354.318-072755.106                  --                 --\n",
       "PSO J103356.462-072824.110                  --                 --\n",
       "                       ...                 ...                ...\n",
       "PSO J103431.862-071737.248                  --                 --\n",
       "PSO J103432.000-071737.973                  --                 --\n",
       "PSO J103431.993-071744.564                  --                 --\n",
       "PSO J103431.865-071742.764                  --                 --\n",
       "PSO J103432.046-071742.292                  --                 --\n",
       "PSO J103430.907-071803.718                  --                 --\n",
       "PSO J103431.360-071752.941                  --  21.89739990234375\n",
       "PSO J103431.338-071758.725                  --                 --\n",
       "PSO J103432.846-071752.121                  -- 18.134599685668945\n",
       "PSO J103432.819-071755.157                  -- 18.687299728393555"
      ]
     },
     "execution_count": 3,
     "metadata": {},
     "output_type": "execute_result"
    }
   ],
   "source": [
    "catalog_data['g-r'] = catalog_data['gMeanPSFMag'] - catalog_data['rMeanPSFMag']\n",
    "catalog_data['objName', 'g-r', 'rMeanPSFMag']"
   ]
  },
  {
   "cell_type": "markdown",
   "metadata": {
    "slideshow": {
     "slide_type": "fragment"
    }
   },
   "source": [
    "(Did you know *this presentation* is a notebook? 🤯)"
   ]
  },
  {
   "cell_type": "markdown",
   "metadata": {
    "slideshow": {
     "slide_type": "slide"
    }
   },
   "source": [
    "# The Jupyter-based viz tools and their place in MAST\n",
    "\n",
    "<a href=\"https://jdaviz.readthedocs.io/en/latest/\"><img width=\"25%\"  src=\"jdaviz.png\" style=\"margin-left:0\"></a>\n",
    "\n",
    "* [Specviz](https://jdaviz.readthedocs.io/en/latest/specviz/index.html) - 1d spectra (IRAF `splot`)\n",
    "* [Mosviz](https://jdaviz.readthedocs.io/en/latest/mosviz/index.html) - Many different objects' spectra (`zspec`)\n",
    "* [Cubeviz](https://jdaviz.readthedocs.io/en/latest/cubeviz/index.html) - Spectral Data Cubes"
   ]
  },
  {
   "cell_type": "markdown",
   "metadata": {
    "slideshow": {
     "slide_type": "slide"
    }
   },
   "source": [
    "# Live Demo (or video)\n",
    "\n",
    "<video data-autoplay src=\"demo/mast_notebook_flow_demo.mp4\"></video>"
   ]
  }
 ],
 "metadata": {
  "celltoolbar": "Slideshow",
  "kernelspec": {
   "display_name": "Python 3 (ipykernel)",
   "language": "python",
   "name": "python3"
  },
  "language_info": {
   "codemirror_mode": {
    "name": "ipython",
    "version": 3
   },
   "file_extension": ".py",
   "mimetype": "text/x-python",
   "name": "python",
   "nbconvert_exporter": "python",
   "pygments_lexer": "ipython3",
   "version": "3.10.9"
  },
  "rise": {
   "theme": "sky"
  }
 },
 "nbformat": 4,
 "nbformat_minor": 4
}
