{
 "cells": [
  {
   "cell_type": "markdown",
   "metadata": {},
   "source": [
    "# Jdaviz Notebook\n",
    "This is an auto-generated notebook to access JWST file **jw00736-o039_t001_miri_ch1-long_x1d.fits** in the\n",
    "[jdaviz](https://jdaviz.readthedocs.io/en/latest/) Python package.\n",
    "\n",
    "This notebook attempts to download public JWST data.  If the data is not public, it will attempt\n",
    "to authenticate using your MAST API authentication token. If you do not have one, go [here](https://auth.mast.stsci.edu/info)\n",
    "to create a new token and set it to a new environment variable called MAST_API_TOKEN.\n"
   ]
  },
  {
   "cell_type": "code",
   "execution_count": 1,
   "metadata": {},
   "outputs": [
    {
     "name": "stderr",
     "output_type": "stream",
     "text": [
      "/home/erik/.venv/jdaviz-dev/lib/python3.8/site-packages/glue/external/echo/__init__.py:3: UserWarning: glue.external.echo is deprecated, import from echo directly instead\n",
      "  warnings.warn('glue.external.echo is deprecated, import from echo directly instead')\n"
     ]
    }
   ],
   "source": [
    "import os\n",
    "from astropy.utils.data import download_file\n",
    "from jdaviz import SpecViz"
   ]
  },
  {
   "cell_type": "code",
   "execution_count": 2,
   "metadata": {},
   "outputs": [],
   "source": [
    "# access any MAST auth token from the os environment\n",
    "auth_token = os.environ.get('MAST_API_TOKEN', '')\n",
    "\n",
    "# construct the http path\n",
    "path = f\"https://mast.stsci.edu/portal_jwst/Download/file?uri=mast:JWST/product/jw00736-o039_t001_miri_ch1-long_x1d.fits\"\n",
    "\n",
    "# download the data file\n",
    "try:\n",
    "    output = download_file(path, cache=True)\n",
    "except Exception as e:\n",
    "    try:\n",
    "        output = download_file(path, cache=True, http_headers={'Authorization': f'Bearer {auth_token}'})\n",
    "    except Exception as e:\n",
    "        if '401' in str(e):\n",
    "            print(f'{e}: Please check you have a valid MAST auth token set.')\n",
    "        else:\n",
    "            print(e)"
   ]
  },
  {
   "cell_type": "code",
   "execution_count": 3,
   "metadata": {},
   "outputs": [
    {
     "data": {
      "application/vnd.jupyter.widget-view+json": {
       "model_id": "c0fedc91ce1d4a8f9c508dea4e178b74",
       "version_major": 2,
       "version_minor": 0
      },
      "text/plain": [
       "Application(components={'g-viewer-tab': '<template>\\n  <component :is=\"stack.container\">\\n    <g-viewer-tab\\n …"
      ]
     },
     "metadata": {},
     "output_type": "display_data"
    }
   ],
   "source": [
    "# load the data file into the helper jdaviz class and display the application\n",
    "h = SpecViz()\n",
    "h.load_spectrum(output)\n",
    "h.app"
   ]
  },
  {
   "cell_type": "code",
   "execution_count": 4,
   "metadata": {},
   "outputs": [
    {
     "data": {
      "text/plain": [
       "Spectral Region, 1 sub-regions:\n",
       "  (6.755712980908273 um, 6.76618195243489 um) "
      ]
     },
     "execution_count": 4,
     "metadata": {},
     "output_type": "execute_result"
    }
   ],
   "source": [
    "spec = list(h.get_spectra().values())[0]\n",
    "region = h.get_spectral_regions()['Subset 1']\n",
    "region"
   ]
  },
  {
   "cell_type": "code",
   "execution_count": 5,
   "metadata": {},
   "outputs": [
    {
     "data": {
      "text/latex": [
       "$6.7612281 \\; \\mathrm{\\mu m}$"
      ],
      "text/plain": [
       "<Quantity 6.76122812 um>"
      ]
     },
     "execution_count": 5,
     "metadata": {},
     "output_type": "execute_result"
    }
   ],
   "source": [
    "from specutils.analysis import centroid\n",
    "\n",
    "centroid(spec, region)"
   ]
  },
  {
   "cell_type": "code",
   "execution_count": 6,
   "metadata": {},
   "outputs": [
    {
     "data": {
      "text/latex": [
       "$6.7604999 \\; \\mathrm{\\mu m}$"
      ],
      "text/plain": [
       "<Quantity 6.76049989 um>"
      ]
     },
     "execution_count": 6,
     "metadata": {},
     "output_type": "execute_result"
    }
   ],
   "source": [
    "import numpy as np\n",
    "from specutils import manipulation\n",
    "\n",
    "base = np.min(manipulation.extract_region(spec, region).flux)\n",
    "centroid(spec-base, region)"
   ]
  },
  {
   "cell_type": "code",
   "execution_count": null,
   "metadata": {},
   "outputs": [],
   "source": [
    "I hadn't heard that story aboout the IKE being rejected due to the \"it's not a way to integrate across institutions\" argument.  That's pretty ridiculous. "
   ]
  }
 ],
 "metadata": {
  "kernelspec": {
   "display_name": "Python 3",
   "language": "python",
   "name": "python3"
  },
  "language_info": {
   "codemirror_mode": {
    "name": "ipython",
    "version": 3
   },
   "file_extension": ".py",
   "mimetype": "text/x-python",
   "name": "python",
   "nbconvert_exporter": "python",
   "pygments_lexer": "ipython3",
   "version": "3.8.5"
  }
 },
 "nbformat": 4,
 "nbformat_minor": 4
}
