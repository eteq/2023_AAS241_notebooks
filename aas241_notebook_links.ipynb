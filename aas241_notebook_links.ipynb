{
 "cells": [
  {
   "cell_type": "markdown",
   "id": "78deb4aa-0be6-470d-9943-0a15eebd44f6",
   "metadata": {
    "slideshow": {
     "slide_type": "slide"
    },
    "tags": []
   },
   "source": [
    "<img align=\"center\" width=\"25%\"  src=\"stsci_pri_combo_mark_light_bkgd.png\">\n",
    "\n",
    "### https://spacetelescope.github.io/jdat_notebooks/\n",
    "\n",
    "Check these out for JWST\n",
    "\n",
    "### https://spacetelescope.github.io/notebooks/ \n",
    "\n",
    "HST and many more. Too many options? Try: \"TESS | Beginner: Cutout of the TESS FFIs using Astrocut and Astroquery\"\n",
    "\n",
    "### https://timeseries.science.stsci.edu/ \n",
    "\n",
    "To reach notebooks matching the above, go to the root by following the \"folder\" icon on the upper-left, and go into `spacetelescope-notebooks`. Or go straight to `https://timeseries.science.stsci.edu/user/<YOUR_USER_NAME>/lab/tree/spacetelescope-notebooks/notebooks/MAST/TESS/interm_tesscut_astroquery/interm_tesscut_astroquery.ipynb` once you've logged in the first time.\n",
    "                                                      \n",
    "                                                   "
   ]
  }
 ],
 "metadata": {
  "kernelspec": {
   "display_name": "Python 3 (ipykernel)",
   "language": "python",
   "name": "python3"
  },
  "language_info": {
   "codemirror_mode": {
    "name": "ipython",
    "version": 3
   },
   "file_extension": ".py",
   "mimetype": "text/x-python",
   "name": "python",
   "nbconvert_exporter": "python",
   "pygments_lexer": "ipython3",
   "version": "3.10.9"
  }
 },
 "nbformat": 4,
 "nbformat_minor": 5
}
